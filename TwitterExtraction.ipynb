{
 "cells": [
  {
   "cell_type": "code",
   "execution_count": 1,
   "metadata": {},
   "outputs": [],
   "source": [
    "# importar bibliotecas\n",
    "\n",
    "import tweepy\n",
    "import sys\n",
    "import datetime\n",
    "import csv\n",
    "import time\n",
    "import tqdm\n",
    "import pandas as pd"
   ]
  },
  {
   "cell_type": "code",
   "execution_count": 2,
   "metadata": {},
   "outputs": [],
   "source": [
    "# Definir consumer key, consumer secret, access token, access token secret\n",
    "\n",
    "consumer_key = 'PREENCHER'\n",
    "consumer_secret = 'PREENCHER'\n",
    "access_token = 'PREENCHER'\n",
    "access_token_secret = 'PREENCHER'"
   ]
  },
  {
   "cell_type": "code",
   "execution_count": 3,
   "metadata": {},
   "outputs": [],
   "source": [
    "# Autenticação no twitter\n",
    "\n",
    "auth = tweepy.OAuthHandler(consumer_key, consumer_secret)\n",
    "auth.set_access_token(access_token, access_token_secret)\n",
    "\n",
    "api = tweepy.API(auth, wait_on_rate_limit=True)"
   ]
  },
  {
   "cell_type": "code",
   "execution_count": 4,
   "metadata": {},
   "outputs": [],
   "source": [
    "query = 'corona OR presidente OR impeachtment OR bolsonaro OR coronavirus OR #corona OR #coronga OR #coronavirus OR quarentena OR pandemia OR covid19 OR covid-19 OR covid_19 OR #coronavirus OR #coronavirusoutbreak OR #coronavirusPandemic OR #covid19 OR #covid_19 -filter:retweets'"
   ]
  },
  {
   "cell_type": "code",
   "execution_count": null,
   "metadata": {},
   "outputs": [],
   "source": [
    "tweets = tweepy.Cursor(api.search,\n",
    "                       q=query,\n",
    "                       tweet_mode = 'extended',\n",
    "                       lang='pt',\n",
    "                       since='2020-03-21',\n",
    "                       until='2020-03-22').items()\n",
    "all_tweets = [\n",
    "              {\"status_id\":tweet.id,\n",
    "               \"created_at\": tweet.created_at.date(),\n",
    "               \"text\":tweet.full_text,\n",
    "               \"country_code\":tweet.place.country_code if tweet.place != None else \"\",\n",
    "               \"lang\":tweet.lang}\n",
    "              for tweet in tweets]\n",
    "df_tweets = pd.DataFrame(all_tweets)"
   ]
  },
  {
   "cell_type": "code",
   "execution_count": null,
   "metadata": {},
   "outputs": [],
   "source": [
    "all_tweets"
   ]
  }
 ],
 "metadata": {
  "kernelspec": {
   "display_name": "Python 3",
   "language": "python",
   "name": "python3"
  },
  "language_info": {
   "codemirror_mode": {
    "name": "ipython",
    "version": 3
   },
   "file_extension": ".py",
   "mimetype": "text/x-python",
   "name": "python",
   "nbconvert_exporter": "python",
   "pygments_lexer": "ipython3",
   "version": "3.7.6"
  }
 },
 "nbformat": 4,
 "nbformat_minor": 4
}
